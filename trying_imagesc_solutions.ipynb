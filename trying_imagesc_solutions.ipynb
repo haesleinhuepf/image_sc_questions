{
 "cells": [
  {
   "cell_type": "code",
   "execution_count": 1,
   "id": "d23c051f-370e-4bff-bf36-a0dafed84e7a",
   "metadata": {},
   "outputs": [],
   "source": [
    "import napari\n",
    "import numpy as np\n",
    "import pandas as pd\n",
    "import pyclesperanto_prototype as cle\n",
    "from skimage import io, measure, segmentation\n",
    "import numpy as np"
   ]
  },
  {
   "cell_type": "code",
   "execution_count": 2,
   "id": "c387120e-ae60-4627-9eca-bca1506dca53",
   "metadata": {},
   "outputs": [],
   "source": [
    "def generate_touch_count_image(g_img):\n",
    "    touch_matrix = cle.generate_touch_matrix(cle.push(g_img))\n",
    "    touch_matrix = cle.set_column(touch_matrix, 0, 0)\n",
    "    counts = cle.count_touching_neighbors(touch_matrix)\n",
    "    return cle.replace_intensities(g_img, counts)"
   ]
  },
  {
   "cell_type": "markdown",
   "id": "15870e83-6cad-46ff-9757-37fd2583bfe4",
   "metadata": {
    "tags": []
   },
   "source": [
    "## approach on simple data"
   ]
  },
  {
   "cell_type": "code",
   "execution_count": 3,
   "id": "7d2a871f-8649-46ea-8d32-4b53eb63fc8e",
   "metadata": {},
   "outputs": [],
   "source": [
    "# label_image = np.array([[0, 1, 2], [0, 3, 4], [0, 5, 0], [0, 0, 0]])\n",
    "# intensity_image = np.array([[0, 10, 20], [0, 10, 10], [0, 10, 0], [0, 0, 0]])"
   ]
  },
  {
   "cell_type": "code",
   "execution_count": 4,
   "id": "080a6849-1824-404d-891e-42c4d474d469",
   "metadata": {},
   "outputs": [],
   "source": [
    "label_image = np.array(\n",
    "    [\n",
    "        [0, 0, 1, 1, 2, 2, 3, 3],\n",
    "        [0, 0, 1, 1, 2, 2, 3, 3],\n",
    "        [0, 0, 4, 4, 5, 5, 6, 6],\n",
    "        [0, 0, 4, 4, 5, 5, 6, 6],\n",
    "        [0, 0, 7, 7, 0, 0, 0, 0],\n",
    "        [0, 0, 7, 7, 0, 0, 0, 0],\n",
    "        [0, 0, 0, 0, 0, 0, 0, 0],\n",
    "        [0, 0, 0, 0, 0, 0, 0, 0],\n",
    "    ]\n",
    ")\n",
    "\n",
    "intensity_image = np.array(\n",
    "    [\n",
    "        [0, 0, 10, 10, 20, 20, 20, 20],\n",
    "        [0, 0, 10, 10, 20, 20, 20, 20],\n",
    "        [0, 0, 10, 10, 10, 10, 20, 20],\n",
    "        [0, 0, 10, 10, 10, 10, 20, 20],\n",
    "        [0, 0, 10, 10, 0, 0, 0, 0],\n",
    "        [0, 0, 10, 10, 0, 0, 0, 0],\n",
    "        [0, 0, 0, 0, 0, 0, 0, 0],\n",
    "        [0, 0, 0, 0, 0, 0, 0, 0],\n",
    "    ]\n",
    ")"
   ]
  },
  {
   "cell_type": "code",
   "execution_count": 5,
   "id": "7d04a217-7303-4f8e-b845-bd61a01af3c5",
   "metadata": {},
   "outputs": [
    {
     "data": {
      "text/plain": [
       "array([[0, 0, 1, 1, 2, 2, 3, 3],\n",
       "       [0, 0, 1, 1, 2, 2, 3, 3],\n",
       "       [0, 0, 4, 4, 5, 5, 6, 6],\n",
       "       [0, 0, 4, 4, 5, 5, 6, 6],\n",
       "       [0, 0, 7, 7, 0, 0, 0, 0],\n",
       "       [0, 0, 7, 7, 0, 0, 0, 0],\n",
       "       [0, 0, 0, 0, 0, 0, 0, 0],\n",
       "       [0, 0, 0, 0, 0, 0, 0, 0]])"
      ]
     },
     "execution_count": 5,
     "metadata": {},
     "output_type": "execute_result"
    }
   ],
   "source": [
    "label_image"
   ]
  },
  {
   "cell_type": "code",
   "execution_count": 6,
   "id": "59865512-b9e9-4f06-a256-868cf1db4264",
   "metadata": {},
   "outputs": [
    {
     "data": {
      "text/plain": [
       "array([[ 0,  0, 10, 10, 20, 20, 20, 20],\n",
       "       [ 0,  0, 10, 10, 20, 20, 20, 20],\n",
       "       [ 0,  0, 10, 10, 10, 10, 20, 20],\n",
       "       [ 0,  0, 10, 10, 10, 10, 20, 20],\n",
       "       [ 0,  0, 10, 10,  0,  0,  0,  0],\n",
       "       [ 0,  0, 10, 10,  0,  0,  0,  0],\n",
       "       [ 0,  0,  0,  0,  0,  0,  0,  0],\n",
       "       [ 0,  0,  0,  0,  0,  0,  0,  0]])"
      ]
     },
     "execution_count": 6,
     "metadata": {},
     "output_type": "execute_result"
    }
   ],
   "source": [
    "intensity_image"
   ]
  },
  {
   "cell_type": "code",
   "execution_count": 7,
   "id": "fb0df6a9",
   "metadata": {},
   "outputs": [
    {
     "data": {
      "image/png": "[encoded data removed]",
      "text/plain": [
       "<Figure size 432x288 with 1 Axes>"
      ]
     },
     "metadata": {
      "needs_background": "light"
     },
     "output_type": "display_data"
    }
   ],
   "source": [
    "cle.imshow(cle.push(intensity_image))"
   ]
  },
  {
   "cell_type": "code",
   "execution_count": 8,
   "id": "c1c09c86-ed94-4682-9215-bf176c073f88",
   "metadata": {},
   "outputs": [],
   "source": [
    "tens_label_image = label_image * (intensity_image == 10)\n",
    "twenties_label_image = label_image * (intensity_image == 20)\n",
    "\n",
    "total_neigh_counts = generate_touch_count_image(label_image)\n",
    "\n",
    "tens_neighbouring_tens_neigh_counts = generate_touch_count_image(tens_label_image)\n",
    "\n",
    "twenties_neighbouring_twenties_neigh_counts = generate_touch_count_image(\n",
    "    twenties_label_image\n",
    ")"
   ]
  },
  {
   "cell_type": "code",
   "execution_count": 9,
   "id": "616b4584-cbd0-4912-93d8-bfb2b87cfa9d",
   "metadata": {},
   "outputs": [
    {
     "data": {
      "text/plain": [
       "cl.Array([[0., 0., 2., 2., 3., 3., 2., 2.],\n",
       "       [0., 0., 2., 2., 3., 3., 2., 2.],\n",
       "       [0., 0., 3., 3., 3., 3., 2., 2.],\n",
       "       [0., 0., 3., 3., 3., 3., 2., 2.],\n",
       "       [0., 0., 1., 1., 0., 0., 0., 0.],\n",
       "       [0., 0., 1., 1., 0., 0., 0., 0.],\n",
       "       [0., 0., 0., 0., 0., 0., 0., 0.],\n",
       "       [0., 0., 0., 0., 0., 0., 0., 0.]], dtype=float32)"
      ]
     },
     "execution_count": 9,
     "metadata": {},
     "output_type": "execute_result"
    }
   ],
   "source": [
    "total_neigh_counts"
   ]
  },
  {
   "cell_type": "code",
   "execution_count": 10,
   "id": "4857cb81-da56-4b08-ac29-5179942aa7f6",
   "metadata": {},
   "outputs": [
    {
     "data": {
      "text/plain": [
       "cl.Array([[0., 0., 1., 1., 0., 0., 0., 0.],\n",
       "       [0., 0., 1., 1., 0., 0., 0., 0.],\n",
       "       [0., 0., 3., 3., 1., 1., 0., 0.],\n",
       "       [0., 0., 3., 3., 1., 1., 0., 0.],\n",
       "       [0., 0., 1., 1., 0., 0., 0., 0.],\n",
       "       [0., 0., 1., 1., 0., 0., 0., 0.],\n",
       "       [0., 0., 0., 0., 0., 0., 0., 0.],\n",
       "       [0., 0., 0., 0., 0., 0., 0., 0.]], dtype=float32)"
      ]
     },
     "execution_count": 10,
     "metadata": {},
     "output_type": "execute_result"
    }
   ],
   "source": [
    "tens_neighbouring_tens_neigh_counts"
   ]
  },
  {
   "cell_type": "code",
   "execution_count": 11,
   "id": "fd0a4353-1057-420c-a982-309afc78e80e",
   "metadata": {},
   "outputs": [
    {
     "data": {
      "text/plain": [
       "cl.Array([[0., 0., 0., 0., 1., 1., 2., 2.],\n",
       "       [0., 0., 0., 0., 1., 1., 2., 2.],\n",
       "       [0., 0., 0., 0., 0., 0., 1., 1.],\n",
       "       [0., 0., 0., 0., 0., 0., 1., 1.],\n",
       "       [0., 0., 0., 0., 0., 0., 0., 0.],\n",
       "       [0., 0., 0., 0., 0., 0., 0., 0.],\n",
       "       [0., 0., 0., 0., 0., 0., 0., 0.],\n",
       "       [0., 0., 0., 0., 0., 0., 0., 0.]], dtype=float32)"
      ]
     },
     "execution_count": 11,
     "metadata": {},
     "output_type": "execute_result"
    }
   ],
   "source": [
    "twenties_neighbouring_twenties_neigh_counts"
   ]
  },
  {
   "cell_type": "code",
   "execution_count": 12,
   "id": "d9e39259",
   "metadata": {},
   "outputs": [
    {
     "data": {
      "image/png": "[encoded data removed]",
      "text/plain": [
       "<Figure size 432x288 with 1 Axes>"
      ]
     },
     "metadata": {
      "needs_background": "light"
     },
     "output_type": "display_data"
    }
   ],
   "source": [
    "cle.imshow(twenties_neighbouring_twenties_neigh_counts)"
   ]
  },
  {
   "cell_type": "code",
   "execution_count": 13,
   "id": "ba5866b5-7e14-4cc6-8e7e-6ae0e183406e",
   "metadata": {},
   "outputs": [
    {
     "data": {
      "text/plain": [
       "cl.Array([[0., 0., 0., 0., 2., 2., 0., 0.],\n",
       "       [0., 0., 0., 0., 2., 2., 0., 0.],\n",
       "       [0., 0., 0., 0., 0., 0., 1., 1.],\n",
       "       [0., 0., 0., 0., 0., 0., 1., 1.],\n",
       "       [0., 0., 0., 0., 0., 0., 0., 0.],\n",
       "       [0., 0., 0., 0., 0., 0., 0., 0.],\n",
       "       [0., 0., 0., 0., 0., 0., 0., 0.],\n",
       "       [0., 0., 0., 0., 0., 0., 0., 0.]], dtype=float32)"
      ]
     },
     "execution_count": 13,
     "metadata": {},
     "output_type": "execute_result"
    }
   ],
   "source": [
    "tens_neighbouring_twenties_neigh_count = (\n",
    "    total_neigh_counts\n",
    "    - tens_neighbouring_tens_neigh_counts\n",
    "    - twenties_neighbouring_twenties_neigh_counts\n",
    ") * (intensity_image == 20)\n",
    "\n",
    "tens_neighbouring_twenties_neigh_count"
   ]
  },
  {
   "cell_type": "code",
   "execution_count": 14,
   "id": "387d155d",
   "metadata": {},
   "outputs": [
    {
     "data": {
      "image/png": "[encoded data removed]",
      "text/plain": [
       "<Figure size 432x288 with 1 Axes>"
      ]
     },
     "metadata": {
      "needs_background": "light"
     },
     "output_type": "display_data"
    }
   ],
   "source": [
    "cle.imshow(tens_neighbouring_twenties_neigh_count)"
   ]
  },
  {
   "cell_type": "code",
   "execution_count": 15,
   "id": "f3252074-6a15-40a2-967a-bb1d1481e64b",
   "metadata": {},
   "outputs": [
    {
     "data": {
      "text/plain": [
       "cl.Array([[0., 0., 1., 1., 0., 0., 0., 0.],\n",
       "       [0., 0., 1., 1., 0., 0., 0., 0.],\n",
       "       [0., 0., 0., 0., 2., 2., 0., 0.],\n",
       "       [0., 0., 0., 0., 2., 2., 0., 0.],\n",
       "       [0., 0., 0., 0., 0., 0., 0., 0.],\n",
       "       [0., 0., 0., 0., 0., 0., 0., 0.],\n",
       "       [0., 0., 0., 0., 0., 0., 0., 0.],\n",
       "       [0., 0., 0., 0., 0., 0., 0., 0.]], dtype=float32)"
      ]
     },
     "execution_count": 15,
     "metadata": {},
     "output_type": "execute_result"
    }
   ],
   "source": [
    "twenties_neighbouring_tens_neigh_count = (\n",
    "    total_neigh_counts\n",
    "    - tens_neighbouring_tens_neigh_counts\n",
    "    - twenties_neighbouring_twenties_neigh_counts\n",
    ") * (intensity_image != 20)\n",
    "\n",
    "twenties_neighbouring_tens_neigh_count"
   ]
  },
  {
   "cell_type": "code",
   "execution_count": 16,
   "id": "a102bbbf",
   "metadata": {},
   "outputs": [
    {
     "data": {
      "image/png": "[encoded data removed]",
      "text/plain": [
       "<Figure size 432x288 with 1 Axes>"
      ]
     },
     "metadata": {
      "needs_background": "light"
     },
     "output_type": "display_data"
    }
   ],
   "source": [
    "cle.imshow(twenties_neighbouring_tens_neigh_count)"
   ]
  },
  {
   "cell_type": "code",
   "execution_count": 17,
   "id": "82d5dc84-c69e-4698-ab15-513082ff24ff",
   "metadata": {},
   "outputs": [],
   "source": [
    "img_tc = [\n",
    "    total_neigh_counts,\n",
    "    tens_neighbouring_tens_neigh_counts,\n",
    "    twenties_neighbouring_twenties_neigh_counts,\n",
    "    tens_neighbouring_twenties_neigh_count,\n",
    "    twenties_neighbouring_tens_neigh_count,\n",
    "]\n",
    "\n",
    "img_tc = [cle.pull(img) for img in img_tc]\n",
    "\n",
    "names_tc = [\n",
    "    \"total_neigh_counts\",\n",
    "    \"10s_neighbouring_10s\",\n",
    "    \"20s_neighbouring_20s\",\n",
    "    \"10s_neighbouring_20s\",\n",
    "    \"20s_neighbouring_10s\",\n",
    "]"
   ]
  },
  {
   "cell_type": "code",
   "execution_count": 18,
   "id": "144b2db1-4eac-4581-accf-74408ca90d75",
   "metadata": {},
   "outputs": [],
   "source": [
    "def summarise(label_img, dict_of_touch_count_images):\n",
    "    d = dict()\n",
    "    d['label'] = np.unique(label_img)\n",
    "    for name, im in dict_of_touch_count_images.items():\n",
    "        l = list()\n",
    "        for num in np.unique(label_img):\n",
    "            l.append(np.unique(im[label_img == num]).astype(int)[0])\n",
    "        d[name] = l\n",
    "    return d"
   ]
  },
  {
   "cell_type": "code",
   "execution_count": 19,
   "id": "af07a4d9-17bb-4290-a4c2-0756eef6cfab",
   "metadata": {},
   "outputs": [],
   "source": [
    "temp_dict = summarise(label_image, dict(zip(names_tc, img_tc)))"
   ]
  },
  {
   "cell_type": "code",
   "execution_count": 20,
   "id": "e7e1fb6d-5b13-4eb6-baca-4a3f1654691d",
   "metadata": {},
   "outputs": [
    {
     "data": {
      "text/html": [
       "<div>\n",
       "<style scoped>\n",
       "    .dataframe tbody tr th:only-of-type {\n",
       "        vertical-align: middle;\n",
       "    }\n",
       "\n",
       "    .dataframe tbody tr th {\n",
       "        vertical-align: top;\n",
       "    }\n",
       "\n",
       "    .dataframe thead th {\n",
       "        text-align: right;\n",
       "    }\n",
       "</style>\n",
       "<table border=\"1\" class=\"dataframe\">\n",
       "  <thead>\n",
       "    <tr style=\"text-align: right;\">\n",
       "      <th></th>\n",
       "      <th>label</th>\n",
       "      <th>total_neigh_counts</th>\n",
       "      <th>10s_neighbouring_10s</th>\n",
       "      <th>20s_neighbouring_20s</th>\n",
       "      <th>10s_neighbouring_20s</th>\n",
       "      <th>20s_neighbouring_10s</th>\n",
       "    </tr>\n",
       "  </thead>\n",
       "  <tbody>\n",
       "    <tr>\n",
       "      <th>0</th>\n",
       "      <td>0</td>\n",
       "      <td>0</td>\n",
       "      <td>0</td>\n",
       "      <td>0</td>\n",
       "      <td>0</td>\n",
       "      <td>0</td>\n",
       "    </tr>\n",
       "    <tr>\n",
       "      <th>1</th>\n",
       "      <td>1</td>\n",
       "      <td>2</td>\n",
       "      <td>1</td>\n",
       "      <td>0</td>\n",
       "      <td>0</td>\n",
       "      <td>1</td>\n",
       "    </tr>\n",
       "    <tr>\n",
       "      <th>2</th>\n",
       "      <td>2</td>\n",
       "      <td>3</td>\n",
       "      <td>0</td>\n",
       "      <td>1</td>\n",
       "      <td>2</td>\n",
       "      <td>0</td>\n",
       "    </tr>\n",
       "    <tr>\n",
       "      <th>3</th>\n",
       "      <td>3</td>\n",
       "      <td>2</td>\n",
       "      <td>0</td>\n",
       "      <td>2</td>\n",
       "      <td>0</td>\n",
       "      <td>0</td>\n",
       "    </tr>\n",
       "    <tr>\n",
       "      <th>4</th>\n",
       "      <td>4</td>\n",
       "      <td>3</td>\n",
       "      <td>3</td>\n",
       "      <td>0</td>\n",
       "      <td>0</td>\n",
       "      <td>0</td>\n",
       "    </tr>\n",
       "    <tr>\n",
       "      <th>5</th>\n",
       "      <td>5</td>\n",
       "      <td>3</td>\n",
       "      <td>1</td>\n",
       "      <td>0</td>\n",
       "      <td>0</td>\n",
       "      <td>2</td>\n",
       "    </tr>\n",
       "    <tr>\n",
       "      <th>6</th>\n",
       "      <td>6</td>\n",
       "      <td>2</td>\n",
       "      <td>0</td>\n",
       "      <td>1</td>\n",
       "      <td>1</td>\n",
       "      <td>0</td>\n",
       "    </tr>\n",
       "    <tr>\n",
       "      <th>7</th>\n",
       "      <td>7</td>\n",
       "      <td>1</td>\n",
       "      <td>1</td>\n",
       "      <td>0</td>\n",
       "      <td>0</td>\n",
       "      <td>0</td>\n",
       "    </tr>\n",
       "  </tbody>\n",
       "</table>\n",
       "</div>"
      ],
      "text/plain": [
       "   label  total_neigh_counts  10s_neighbouring_10s  20s_neighbouring_20s  \\\n",
       "0      0                   0                     0                     0   \n",
       "1      1                   2                     1                     0   \n",
       "2      2                   3                     0                     1   \n",
       "3      3                   2                     0                     2   \n",
       "4      4                   3                     3                     0   \n",
       "5      5                   3                     1                     0   \n",
       "6      6                   2                     0                     1   \n",
       "7      7                   1                     1                     0   \n",
       "\n",
       "   10s_neighbouring_20s  20s_neighbouring_10s  \n",
       "0                     0                     0  \n",
       "1                     0                     1  \n",
       "2                     2                     0  \n",
       "3                     0                     0  \n",
       "4                     0                     0  \n",
       "5                     0                     2  \n",
       "6                     1                     0  \n",
       "7                     0                     0  "
      ]
     },
     "execution_count": 20,
     "metadata": {},
     "output_type": "execute_result"
    }
   ],
   "source": [
    "pd.DataFrame(temp_dict)"
   ]
  },
  {
   "cell_type": "code",
   "execution_count": null,
   "id": "53540b87",
   "metadata": {},
   "outputs": [],
   "source": []
  }
 ],
 "metadata": {
  "kernelspec": {
   "display_name": "Python 3 (ipykernel)",
   "language": "python",
   "name": "python3"
  },
  "language_info": {
   "codemirror_mode": {
    "name": "ipython",
    "version": 3
   },
   "file_extension": ".py",
   "mimetype": "text/x-python",
   "name": "python",
   "nbconvert_exporter": "python",
   "pygments_lexer": "ipython3",
   "version": "3.8.5"
  }
 },
 "nbformat": 4,
 "nbformat_minor": 5
}
